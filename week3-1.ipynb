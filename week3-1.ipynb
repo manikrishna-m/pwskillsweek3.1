{
 "cells": [
  {
   "cell_type": "markdown",
   "id": "8f11fb4b-1618-4e2c-887b-017a343d379c",
   "metadata": {},
   "source": [
    "## Q1. Which keyword is used to create a function? Create a function to return a list of odd numbers in the range of 1 to 25."
   ]
  },
  {
   "cell_type": "markdown",
   "id": "cd2d1698-8d62-4178-b90d-8699a542a4c8",
   "metadata": {},
   "source": [
    "def keyword is used to create a function"
   ]
  },
  {
   "cell_type": "code",
   "execution_count": 2,
   "id": "42414c9f-f08f-4dd6-b2d0-31df4ec5a76a",
   "metadata": {},
   "outputs": [],
   "source": [
    "def odd_num():\n",
    "    l = []\n",
    "    for i in range(1,25):\n",
    "        if i%2 == 1:\n",
    "            l.append(i)\n",
    "    return l"
   ]
  },
  {
   "cell_type": "code",
   "execution_count": 3,
   "id": "4b8b189a-8310-4c76-a23e-d0b33d3cee71",
   "metadata": {},
   "outputs": [
    {
     "data": {
      "text/plain": [
       "[1, 3, 5, 7, 9, 11, 13, 15, 17, 19, 21, 23]"
      ]
     },
     "execution_count": 3,
     "metadata": {},
     "output_type": "execute_result"
    }
   ],
   "source": [
    "odd_num()"
   ]
  },
  {
   "cell_type": "markdown",
   "id": "97857ef0-a852-4eb0-8179-f296a316c0a6",
   "metadata": {},
   "source": [
    "## Q2. Why *args and **kwargs is used in some functions? Create a function each for *args and **kwargs to demonstrate their use."
   ]
  },
  {
   "cell_type": "markdown",
   "id": "4efc1114-7446-4c12-bef6-5a4d0e4948b7",
   "metadata": {},
   "source": [
    "*args and **kwargs are used to pass the variable number of arguments to a fumction. *args is used while passing the arguments as sequence and **kwargs is used while passing the arguments as key value pairs. args and kwargs are not keywords. We can flixible to use any name."
   ]
  },
  {
   "cell_type": "code",
   "execution_count": 6,
   "id": "4df8c0b1-4deb-4933-aae4-6daed3d3b7d0",
   "metadata": {},
   "outputs": [
    {
     "name": "stdout",
     "output_type": "stream",
     "text": [
      "(1, 2, 3, 'mani')\n",
      "{'a': 1, 's': 'pwskills', 'l': [1, 2]}\n"
     ]
    }
   ],
   "source": [
    "def demo_1(*arg):\n",
    "    return arg\n",
    "\n",
    "def demo_2(**kwarg):\n",
    "    return kwarg\n",
    "    \n",
    "print(demo_1(1,2,3,\"mani\"))\n",
    "print(demo_2(a = 1, s = \"pwskills\", l = [1,2]))"
   ]
  },
  {
   "cell_type": "markdown",
   "id": "a4ce069c-b7b2-405d-aef8-a18af1532982",
   "metadata": {},
   "source": [
    "## Q3. What is an iterator in python? Name the method used to initialise the iterator object and the method used for iteration. Use these methods to print the first five elements of the given list [2, 4, 6, 8, 10, 12, 14, 16,18, 20]."
   ]
  },
  {
   "cell_type": "code",
   "execution_count": null,
   "id": "5a70b49b-01a4-42a5-b1fa-0c3897cc561a",
   "metadata": {},
   "outputs": [],
   "source": []
  },
  {
   "cell_type": "markdown",
   "id": "dbc93800-ba14-4448-b2c8-b56d48ef94ee",
   "metadata": {},
   "source": [
    "## Q4. What is a generator function in python? Why yield keyword is used? Give an example of a generator function."
   ]
  },
  {
   "cell_type": "code",
   "execution_count": null,
   "id": "e493f755-9f9e-475f-843b-fd25241973d0",
   "metadata": {},
   "outputs": [],
   "source": []
  },
  {
   "cell_type": "markdown",
   "id": "8d306e77-4a22-4c87-a8ee-6cb4ebf6c540",
   "metadata": {},
   "source": [
    "## Q5. Create a generator function for prime numbers less than 1000. Use the next() method to print the first 20 prime numbers."
   ]
  },
  {
   "cell_type": "code",
   "execution_count": null,
   "id": "85766bd7-3117-49bc-869a-40eee338175c",
   "metadata": {},
   "outputs": [],
   "source": []
  }
 ],
 "metadata": {
  "kernelspec": {
   "display_name": "Python 3 (ipykernel)",
   "language": "python",
   "name": "python3"
  },
  "language_info": {
   "codemirror_mode": {
    "name": "ipython",
    "version": 3
   },
   "file_extension": ".py",
   "mimetype": "text/x-python",
   "name": "python",
   "nbconvert_exporter": "python",
   "pygments_lexer": "ipython3",
   "version": "3.9.12"
  }
 },
 "nbformat": 4,
 "nbformat_minor": 5
}
